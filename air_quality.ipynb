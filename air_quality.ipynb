{
 "cells": [
  {
   "cell_type": "code",
   "execution_count": 8,
   "metadata": {},
   "outputs": [],
   "source": [
    "import pandas as pd\n",
    "import seaborn as sns\n",
    "import matplotlib.pyplot as plt"
   ]
  },
  {
   "cell_type": "code",
   "execution_count": 9,
   "metadata": {},
   "outputs": [],
   "source": [
    "from sklearn.model_selection import train_test_split\n",
    "from sklearn.linear_model import LinearRegression\n",
    "from sklearn.metrics import mean_squared_error, r2_score"
   ]
  },
  {
   "cell_type": "code",
   "execution_count": 12,
   "metadata": {},
   "outputs": [],
   "source": [
    "#run this if doesn work in terminal\n",
    "#pip install pandas numpy matplotlib seaborn scikit-learn\n",
    "#Load the dataset\n",
    "data = pd.read_csv('data/raw/global_air_pollution_data.csv')\n"
   ]
  },
  {
   "cell_type": "code",
   "execution_count": 13,
   "metadata": {},
   "outputs": [
    {
     "name": "stdout",
     "output_type": "stream",
     "text": [
      "         country_name         city_name  aqi_value aqi_category  \\\n",
      "0  Russian Federation        Praskoveya         51     Moderate   \n",
      "1              Brazil  Presidente Dutra         41         Good   \n",
      "2               Italy   Priolo Gargallo         66     Moderate   \n",
      "3              Poland         Przasnysz         34         Good   \n",
      "4              France          Punaauia         22         Good   \n",
      "\n",
      "   co_aqi_value\\t co_aqi_category  ozone_aqi_value ozone_aqi_category  \\\n",
      "0               1            Good               36               Good   \n",
      "1               1            Good                5               Good   \n",
      "2               1            Good               39               Good   \n",
      "3               1            Good               34               Good   \n",
      "4               0            Good               22               Good   \n",
      "\n",
      "   no2_aqi_value no2_aqi_category  pm2.5_aqi_value pm2.5_aqi_category  \n",
      "0              0             Good               51           Moderate  \n",
      "1              1             Good               41               Good  \n",
      "2              2             Good               66           Moderate  \n",
      "3              0             Good               20               Good  \n",
      "4              0             Good                6               Good  \n"
     ]
    }
   ],
   "source": [
    "# Display the first few rows\n",
    "print(data.head())"
   ]
  },
  {
   "cell_type": "code",
   "execution_count": 14,
   "metadata": {},
   "outputs": [
    {
     "name": "stdout",
     "output_type": "stream",
     "text": [
      "<class 'pandas.core.frame.DataFrame'>\n",
      "RangeIndex: 23463 entries, 0 to 23462\n",
      "Data columns (total 12 columns):\n",
      " #   Column              Non-Null Count  Dtype \n",
      "---  ------              --------------  ----- \n",
      " 0   country_name        23036 non-null  object\n",
      " 1   city_name           23462 non-null  object\n",
      " 2   aqi_value           23463 non-null  int64 \n",
      " 3   aqi_category        23463 non-null  object\n",
      " 4   co_aqi_value\t       23463 non-null  int64 \n",
      " 5   co_aqi_category     23463 non-null  object\n",
      " 6   ozone_aqi_value     23463 non-null  int64 \n",
      " 7   ozone_aqi_category  23463 non-null  object\n",
      " 8   no2_aqi_value       23463 non-null  int64 \n",
      " 9   no2_aqi_category    23463 non-null  object\n",
      " 10  pm2.5_aqi_value     23463 non-null  int64 \n",
      " 11  pm2.5_aqi_category  23463 non-null  object\n",
      "dtypes: int64(5), object(7)\n",
      "memory usage: 2.1+ MB\n",
      "None\n"
     ]
    }
   ],
   "source": [
    "# Display basic information about the dataset\n",
    "print(data.info())\n"
   ]
  },
  {
   "cell_type": "code",
   "execution_count": 15,
   "metadata": {},
   "outputs": [
    {
     "name": "stdout",
     "output_type": "stream",
     "text": [
      "country_name          427\n",
      "city_name               1\n",
      "aqi_value               0\n",
      "aqi_category            0\n",
      "co_aqi_value\\t          0\n",
      "co_aqi_category         0\n",
      "ozone_aqi_value         0\n",
      "ozone_aqi_category      0\n",
      "no2_aqi_value           0\n",
      "no2_aqi_category        0\n",
      "pm2.5_aqi_value         0\n",
      "pm2.5_aqi_category      0\n",
      "dtype: int64\n"
     ]
    }
   ],
   "source": [
    "# Check for missing values\n",
    "print(data.isnull().sum())"
   ]
  },
  {
   "cell_type": "code",
   "execution_count": 16,
   "metadata": {},
   "outputs": [
    {
     "name": "stdout",
     "output_type": "stream",
     "text": [
      "          aqi_value  co_aqi_value\\t  ozone_aqi_value  no2_aqi_value  \\\n",
      "count  23463.000000    23463.000000     23463.000000   23463.000000   \n",
      "mean      72.010868        1.368367        35.193709       3.063334   \n",
      "std       56.055220        1.832064        28.098723       5.254108   \n",
      "min        6.000000        0.000000         0.000000       0.000000   \n",
      "25%       39.000000        1.000000        21.000000       0.000000   \n",
      "50%       55.000000        1.000000        31.000000       1.000000   \n",
      "75%       79.000000        1.000000        40.000000       4.000000   \n",
      "max      500.000000      133.000000       235.000000      91.000000   \n",
      "\n",
      "       pm2.5_aqi_value  \n",
      "count     23463.000000  \n",
      "mean         68.519755  \n",
      "std          54.796443  \n",
      "min           0.000000  \n",
      "25%          35.000000  \n",
      "50%          54.000000  \n",
      "75%          79.000000  \n",
      "max         500.000000  \n"
     ]
    }
   ],
   "source": [
    "# Summary statistics\n",
    "print(data.describe())"
   ]
  },
  {
   "cell_type": "code",
   "execution_count": 17,
   "metadata": {},
   "outputs": [
    {
     "name": "stdout",
     "output_type": "stream",
     "text": [
      "          aqi_value  co_aqi_value\\t  ozone_aqi_value  no2_aqi_value  \\\n",
      "count  23463.000000    23463.000000     23463.000000   23463.000000   \n",
      "mean      72.010868        1.368367        35.193709       3.063334   \n",
      "std       56.055220        1.832064        28.098723       5.254108   \n",
      "min        6.000000        0.000000         0.000000       0.000000   \n",
      "25%       39.000000        1.000000        21.000000       0.000000   \n",
      "50%       55.000000        1.000000        31.000000       1.000000   \n",
      "75%       79.000000        1.000000        40.000000       4.000000   \n",
      "max      500.000000      133.000000       235.000000      91.000000   \n",
      "\n",
      "       pm2.5_aqi_value  \n",
      "count     23463.000000  \n",
      "mean         68.519755  \n",
      "std          54.796443  \n",
      "min           0.000000  \n",
      "25%          35.000000  \n",
      "50%          54.000000  \n",
      "75%          79.000000  \n",
      "max         500.000000  \n"
     ]
    }
   ],
   "source": [
    "# Summary statistics\n",
    "print(data.describe())"
   ]
  },
  {
   "cell_type": "code",
   "execution_count": 19,
   "metadata": {},
   "outputs": [
    {
     "name": "stdout",
     "output_type": "stream",
     "text": [
      "aqi_value          0\n",
      "co_aqi_value\\t     0\n",
      "ozone_aqi_value    0\n",
      "no2_aqi_value      0\n",
      "pm2.5_aqi_value    0\n",
      "dtype: int64\n"
     ]
    }
   ],
   "source": [
    "numeric_cols = data.select_dtypes(include='number').columns\n",
    "data[numeric_cols] = data[numeric_cols].fillna(data[numeric_cols].mean())\n",
    "\n",
    "# Verify that there are no missing values left in numeric columns\n",
    "print(data[numeric_cols].isnull().sum())"
   ]
  },
  {
   "cell_type": "code",
   "execution_count": 20,
   "metadata": {},
   "outputs": [],
   "source": [
    "# Remove duplicates\n",
    "data.drop_duplicates(inplace=True)"
   ]
  },
  {
   "cell_type": "code",
   "execution_count": 22,
   "metadata": {},
   "outputs": [
    {
     "name": "stdout",
     "output_type": "stream",
     "text": [
      "Index(['country_name', 'city_name', 'aqi_value', 'aqi_category',\n",
      "       'co_aqi_value\\t', 'co_aqi_category', 'ozone_aqi_value',\n",
      "       'ozone_aqi_category', 'no2_aqi_value', 'no2_aqi_category',\n",
      "       'pm2.5_aqi_value', 'pm2.5_aqi_category'],\n",
      "      dtype='object')\n"
     ]
    }
   ],
   "source": [
    "# Print column names to verify the existence of 'date'\n",
    "print(data.columns)"
   ]
  },
  {
   "cell_type": "code",
   "execution_count": 24,
   "metadata": {},
   "outputs": [
    {
     "name": "stdout",
     "output_type": "stream",
     "text": [
      "Date column not found in the dataset\n",
      "         country_name         city_name  aqi_value aqi_category  \\\n",
      "0  Russian Federation        Praskoveya         51     Moderate   \n",
      "1              Brazil  Presidente Dutra         41         Good   \n",
      "2               Italy   Priolo Gargallo         66     Moderate   \n",
      "3              Poland         Przasnysz         34         Good   \n",
      "4              France          Punaauia         22         Good   \n",
      "\n",
      "   co_aqi_value\\t co_aqi_category  ozone_aqi_value ozone_aqi_category  \\\n",
      "0               1            Good               36               Good   \n",
      "1               1            Good                5               Good   \n",
      "2               1            Good               39               Good   \n",
      "3               1            Good               34               Good   \n",
      "4               0            Good               22               Good   \n",
      "\n",
      "   no2_aqi_value no2_aqi_category  pm2.5_aqi_value pm2.5_aqi_category  \n",
      "0              0             Good               51           Moderate  \n",
      "1              1             Good               41               Good  \n",
      "2              2             Good               66           Moderate  \n",
      "3              0             Good               20               Good  \n",
      "4              0             Good                6               Good  \n"
     ]
    }
   ],
   "source": [
    "# Convert data types if necessary (update based on your dataset)\n",
    "if 'date' in data.columns:\n",
    "    data['date'] = pd.to_datetime(data['date'])\n",
    "elif 'Date' in data.columns:\n",
    "    data['Date'] = pd.to_datetime(data['Date'])\n",
    "else:\n",
    "    print(\"Date column not found in the dataset\")\n",
    "\n",
    "# Display the first few rows to verify changes\n",
    "print(data.head())"
   ]
  },
  {
   "cell_type": "code",
   "execution_count": 25,
   "metadata": {},
   "outputs": [
    {
     "name": "stderr",
     "output_type": "stream",
     "text": [
      "/Users/puspakirana/Documents/air-quality-analysis/env/lib/python3.9/site-packages/seaborn/utils.py:61: UserWarning: Glyph 9 (\t) missing from font(s) DejaVu Sans.\n",
      "  fig.canvas.draw()\n",
      "/Users/puspakirana/Documents/air-quality-analysis/env/lib/python3.9/site-packages/IPython/core/pylabtools.py:152: UserWarning: Glyph 9 (\t) missing from font(s) DejaVu Sans.\n",
      "  fig.canvas.print_figure(bytes_io, **kw)\n"
     ]
    },
    {
     "data": {
      "image/png": "[encoded data removed]",
      "text/plain": [
       "<Figure size 1200x800 with 2 Axes>"
      ]
     },
     "metadata": {},
     "output_type": "display_data"
    }
   ],
   "source": [
    "# Select only numeric columns for the correlation matrix\n",
    "numeric_data = data.select_dtypes(include='number')\n",
    "\n",
    "# Correlation matrix\n",
    "plt.figure(figsize=(12, 8))\n",
    "sns.heatmap(numeric_data.corr(), annot=True, cmap='coolwarm')\n",
    "plt.title('Correlation Matrix')\n",
    "plt.show()"
   ]
  },
  {
   "cell_type": "markdown",
   "metadata": {},
   "source": [
    "### Explanation of the Correlation Matrix\n",
    "\n",
    "A correlation matrix is a table showing correlation coefficients between many variables. Each cell in the table shows the correlation between two variables. The value is in the range of -1 to 1.\n",
    "\n",
    "1 indicates a perfect positive correlation.\n",
    "-1 indicates a perfect negative correlation.\n",
    "0 indicates no correlation.\n",
    "\n",
    "### Result heatmap:\n",
    "\n",
    "Diagonal Values: These are all 1.0 because a variable is always perfectly correlated with itself.\n",
    "Off-Diagonal Values: These show the pairwise correlations between different variables.\n",
    "\n",
    "### Interpretation of the Heatmap\n",
    "\n",
    "1.\tStrong Positive Correlations (close to 1):\n",
    "\taqi_value and pm2.5_aqi_value (0.98): This strong positive correlation indicates that as pm2.5_aqi_value increases, the aqi_value also increases significantly. PM2.5 (particulate matter with diameter less than 2.5 micrometers) is a major component of air pollution and heavily influences the Air Quality Index (AQI).co_aqi_value and no2_aqi_value (0.49): Carbon monoxide and nitrogen dioxide show a moderate positive correlation, suggesting they often increase or decrease together.\n",
    "\n",
    "2.\tModerate Positive Correlations (0.3 to 0.5):\n",
    "\tco_aqi_value and pm2.5_aqi_value (0.44): This suggests that there is a moderate relationship between carbon monoxide and PM2.5 levels.\n",
    "\tozone_aqi_value and co_aqi_value (0.15): Although lower, there is still a noticeable correlation indicating these pollutants can sometimes increase or decrease together.\n",
    "\n",
    "3.\tWeak or Negative Correlations (close to 0 or negative)\n",
    "\tno2_aqi_value and ozone_aqi_value (-0.18): A negative correlation here suggests that these two pollutants might often be inversely related; when one is high, the other might be low.\n",
    "\n",
    "### Insights\n",
    "\n",
    "1. Impact on AQI: The pm2.5_aqi_value has the highest impact on the overall aqi_value, indicating it is the primary pollutant driving the AQI values in your dataset.\n",
    "2. Pairwise Relations: The positive correlation between co_aqi_value and no2_aqi_value suggests that these pollutants often come from similar sources or conditions, such as traffic emissions.\n",
    "3. Inverse Relationships: The negative correlation between ozone_aqi_value and no2_aqi_value can be indicative of complex chemical interactions in the atmosphere where the presence of one can reduce the other.\n"
   ]
  },
  {
   "cell_type": "markdown",
   "metadata": {},
   "source": [
    "## PM2.5 Analysis"
   ]
  },
  {
   "cell_type": "code",
   "execution_count": 30,
   "metadata": {},
   "outputs": [
    {
     "name": "stdout",
     "output_type": "stream",
     "text": [
      "<class 'pandas.core.frame.DataFrame'>\n",
      "RangeIndex: 23463 entries, 0 to 23462\n",
      "Data columns (total 12 columns):\n",
      " #   Column              Non-Null Count  Dtype \n",
      "---  ------              --------------  ----- \n",
      " 0   country_name        23036 non-null  object\n",
      " 1   city_name           23462 non-null  object\n",
      " 2   aqi_value           23463 non-null  int64 \n",
      " 3   aqi_category        23463 non-null  object\n",
      " 4   co_aqi_value\t       23463 non-null  int64 \n",
      " 5   co_aqi_category     23463 non-null  object\n",
      " 6   ozone_aqi_value     23463 non-null  int64 \n",
      " 7   ozone_aqi_category  23463 non-null  object\n",
      " 8   no2_aqi_value       23463 non-null  int64 \n",
      " 9   no2_aqi_category    23463 non-null  object\n",
      " 10  pm2.5_aqi_value     23463 non-null  int64 \n",
      " 11  pm2.5_aqi_category  23463 non-null  object\n",
      "dtypes: int64(5), object(7)\n",
      "memory usage: 2.1+ MB\n",
      "None\n",
      "Date column not found in the dataset\n",
      "         country_name         city_name  aqi_value aqi_category  \\\n",
      "0  Russian Federation        Praskoveya         51     Moderate   \n",
      "1              Brazil  Presidente Dutra         41         Good   \n",
      "2               Italy   Priolo Gargallo         66     Moderate   \n",
      "3              Poland         Przasnysz         34         Good   \n",
      "4              France          Punaauia         22         Good   \n",
      "\n",
      "   co_aqi_value\\t co_aqi_category  ozone_aqi_value ozone_aqi_category  \\\n",
      "0               1            Good               36               Good   \n",
      "1               1            Good                5               Good   \n",
      "2               1            Good               39               Good   \n",
      "3               1            Good               34               Good   \n",
      "4               0            Good               22               Good   \n",
      "\n",
      "   no2_aqi_value no2_aqi_category  pm2.5_aqi_value pm2.5_aqi_category  \n",
      "0              0             Good               51           Moderate  \n",
      "1              1             Good               41               Good  \n",
      "2              2             Good               66           Moderate  \n",
      "3              0             Good               20               Good  \n",
      "4              0             Good                6               Good  \n"
     ]
    }
   ],
   "source": [
    "import pandas as pd\n",
    "\n",
    "# Load the dataset\n",
    "data = pd.read_csv('data/raw/global_air_pollution_data.csv')\n",
    "\n",
    "# Display basic information\n",
    "print(data.info())\n",
    "\n",
    "# Handle missing values (example: filling missing values with mean for numeric columns only)\n",
    "numeric_cols = data.select_dtypes(include='number').columns\n",
    "data[numeric_cols] = data[numeric_cols].fillna(data[numeric_cols].mean())\n",
    "\n",
    "# Convert date column to datetime format if it exists\n",
    "if 'date' in data.columns:\n",
    "    data['date'] = pd.to_datetime(data['date'])\n",
    "elif 'Date' in data.columns:\n",
    "    data['Date'] = pd.to_datetime(data['Date'])\n",
    "else:\n",
    "    print(\"Date column not found in the dataset\")\n",
    "\n",
    "# Verify data cleaning\n",
    "print(data.head())"
   ]
  },
  {
   "cell_type": "markdown",
   "metadata": {},
   "source": [
    "#### Distribution Analysis\n",
    "Understand the distribution of PM2.5 concentrations."
   ]
  },
  {
   "cell_type": "code",
   "execution_count": 31,
   "metadata": {},
   "outputs": [],
   "source": [
    "import seaborn as sns\n",
    "import matplotlib.pyplot as plt"
   ]
  },
  {
   "cell_type": "code",
   "execution_count": 35,
   "metadata": {},
   "outputs": [
    {
     "name": "stdout",
     "output_type": "stream",
     "text": [
      "         country_name         city_name  aqi_value aqi_category  \\\n",
      "0  Russian Federation        Praskoveya         51     Moderate   \n",
      "1              Brazil  Presidente Dutra         41         Good   \n",
      "2               Italy   Priolo Gargallo         66     Moderate   \n",
      "3              Poland         Przasnysz         34         Good   \n",
      "4              France          Punaauia         22         Good   \n",
      "\n",
      "   co_aqi_value\\t co_aqi_category  ozone_aqi_value ozone_aqi_category  \\\n",
      "0               1            Good               36               Good   \n",
      "1               1            Good                5               Good   \n",
      "2               1            Good               39               Good   \n",
      "3               1            Good               34               Good   \n",
      "4               0            Good               22               Good   \n",
      "\n",
      "   no2_aqi_value no2_aqi_category  pm2.5_aqi_value pm2.5_aqi_category  \n",
      "0              0             Good               51           Moderate  \n",
      "1              1             Good               41               Good  \n",
      "2              2             Good               66           Moderate  \n",
      "3              0             Good               20               Good  \n",
      "4              0             Good                6               Good  \n"
     ]
    }
   ],
   "source": [
    "print(data.head())"
   ]
  }
 ],
 "metadata": {
  "kernelspec": {
   "display_name": "env",
   "language": "python",
   "name": "python3"
  },
  "language_info": {
   "codemirror_mode": {
    "name": "ipython",
    "version": 3
   },
   "file_extension": ".py",
   "mimetype": "text/x-python",
   "name": "python",
   "nbconvert_exporter": "python",
   "pygments_lexer": "ipython3",
   "version": "3.9.6"
  }
 },
 "nbformat": 4,
 "nbformat_minor": 2
}
